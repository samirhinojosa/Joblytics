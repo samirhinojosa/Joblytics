{
 "cells": [
  {
   "cell_type": "code",
   "execution_count": null,
   "id": "9c774288-03bb-4714-af84-fc51d562b82e",
   "metadata": {},
   "outputs": [],
   "source": [
    "class Solution:\n",
    "    def processStr(self, s: str) -> str:"
   ]
  },
  {
   "cell_type": "code",
   "execution_count": 6,
   "id": "531bc2e7-87ee-4aa1-b0b5-65c81d20d40a",
   "metadata": {},
   "outputs": [],
   "source": [
    "s = \"a#b%*\""
   ]
  },
  {
   "cell_type": "code",
   "execution_count": 30,
   "id": "fc820759-025d-4a68-b03a-5fe2924ed9b3",
   "metadata": {
    "scrolled": true
   },
   "outputs": [
    {
     "name": "stdout",
     "output_type": "stream",
     "text": [
      "a\n",
      "aab\n",
      "baa\n",
      "ba\n"
     ]
    }
   ],
   "source": [
    "result = \"\"\n",
    "for i in range(len(s)):\n",
    "    if s[i] not in [\"#\", \"%\", \"*\"] and s[i].islower():\n",
    "        result = result + s[i]\n",
    "    elif s[i] == \"#\":\n",
    "        result += result\n",
    "    elif s[i] == \"%\":\n",
    "        result = \"\".join(reversed(result))\n",
    "    elif s[i] == \"*\":\n",
    "        result = result[:-1]\n"
   ]
  },
  {
   "cell_type": "code",
   "execution_count": 33,
   "id": "2d1ec4ac-5d00-44a8-ab26-739b0c4f6962",
   "metadata": {},
   "outputs": [],
   "source": [
    "s =\"%#bz%xum##i##vzo#pwc*#dkwbh####%uf%s*%cgppqhqa%h#l##o%ij%%cz%iga##e###u%#e####jfwx##%%*x%m*%#\""
   ]
  },
  {
   "cell_type": "code",
   "execution_count": null,
   "id": "4d61d103-1b3e-47c9-b9ba-368002c3d659",
   "metadata": {},
   "outputs": [],
   "source": [
    "result = \"\"\n",
    "for i in range(len(s)):\n",
    "    if len(result) < 10**15:\n",
    "        if s[i] not in [\"*\", \"#\", \"%\"] and s[i].islower():\n",
    "            result = result + s[i]\n",
    "        elif s[i] == \"*\" and len(result) > 0:\n",
    "            result = result[:-1]\n",
    "        elif s[i] == \"#\" and len(result) > 0:\n",
    "            result = result + result\n",
    "        elif s[i] == \"%\" and len(result) > 0:\n",
    "            result = \"\".join(reversed(result))\n",
    "    \n",
    "\n",
    "    print(result)"
   ]
  },
  {
   "cell_type": "code",
   "execution_count": null,
   "id": "44005637-f74a-44ed-8c7d-014abe414e0e",
   "metadata": {},
   "outputs": [],
   "source": [
    "result"
   ]
  },
  {
   "cell_type": "code",
   "execution_count": null,
   "id": "c3a66c25-48f6-45d3-8b75-74250225c6d4",
   "metadata": {},
   "outputs": [],
   "source": [
    "result = process(s)\n",
    "if len(result) > 10**15:\n",
    "    raise ValueError(\"El resultado es demasiado largo (máx. 10**15).\")"
   ]
  }
 ],
 "metadata": {
  "kernelspec": {
   "display_name": "Python 3 (ipykernel)",
   "language": "python",
   "name": "python3"
  },
  "language_info": {
   "codemirror_mode": {
    "name": "ipython",
    "version": 3
   },
   "file_extension": ".py",
   "mimetype": "text/x-python",
   "name": "python",
   "nbconvert_exporter": "python",
   "pygments_lexer": "ipython3",
   "version": "3.12.3"
  }
 },
 "nbformat": 4,
 "nbformat_minor": 5
}
