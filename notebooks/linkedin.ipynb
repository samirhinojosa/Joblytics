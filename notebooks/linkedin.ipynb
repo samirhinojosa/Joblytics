{
 "cells": [
  {
   "cell_type": "code",
   "execution_count": 1,
   "id": "d5cf0d56-9c8a-4b13-a944-669e69804680",
   "metadata": {},
   "outputs": [],
   "source": [
    "import requests\n",
    "import random\n",
    "from bs4 import BeautifulSoup\n",
    "import pandas as pd"
   ]
  },
  {
   "cell_type": "markdown",
   "id": "29034d9f-21bb-4952-9bd1-65209712e0d8",
   "metadata": {},
   "source": [
    "## Search filters"
   ]
  },
  {
   "cell_type": "code",
   "execution_count": 75,
   "id": "51a0acb9-2195-4adc-bf9c-510b46bfdddf",
   "metadata": {},
   "outputs": [],
   "source": [
    "position = \"Data Engineer\"\n",
    "location = \"France\""
   ]
  },
  {
   "cell_type": "markdown",
   "id": "714fee1b-4bcb-40d0-9167-e5f28f9346ce",
   "metadata": {},
   "source": [
    "## Settings headers"
   ]
  },
  {
   "cell_type": "code",
   "execution_count": 7,
   "id": "5881fe0a-a7e4-4214-9187-f3f109c43936",
   "metadata": {},
   "outputs": [
    {
     "name": "stdout",
     "output_type": "stream",
     "text": [
      "Using header: {'User-Agent': 'Mozilla/5.0'}\n"
     ]
    }
   ],
   "source": [
    "# Define a list of different headers to mimic various browser and OS combinations\n",
    "headers = [\n",
    "    {'User-Agent': 'Mozilla/5.0'},\n",
    "    {'User-Agent': 'Mozilla/5.0 (Macintosh; Intel Mac OS X 10_14_6) AppleWebKit/537.36 (KHTML, like Gecko) Chrome/99.0.4844.84 Safari/537.36'},\n",
    "    {'User-Agent': 'Mozilla/5.0 (Linux; Android 6.0; Nexus 5 Build/MRA58N) AppleWebKit/537.36 (KHTML, like Gecko) Chrome/104.0.0.0 Mobile Safari/537.36'}\n",
    "]\n",
    "\n",
    "# Randomly choose one of the headers to use for the request\n",
    "header = random.choice(headers)\n",
    "print(f\"Using header: {header}\")"
   ]
  },
  {
   "cell_type": "markdown",
   "id": "a03fd1bb-8c27-4a22-83ef-51befc63f03a",
   "metadata": {},
   "source": [
    "## Fetch list of jobPosting (ids)"
   ]
  },
  {
   "cell_type": "markdown",
   "id": "f46f063e-2ef4-4ea9-a4f8-0bed0ba444d7",
   "metadata": {},
   "source": [
    "- https://blog.devgenius.io/web-scraping-linkedin-job-postings-e93d14b6b68f\n",
    "- https://blog.devgenius.io/web-scraping-linkedin-job-postings-part-2-caddc463d324\n",
    "- https://blog.devgenius.io/web-scraping-linkedin-job-postings-part-3-data-cleaning-and-categorization-cd87532ef046"
   ]
  },
  {
   "cell_type": "code",
   "execution_count": 8,
   "id": "a5479f44-38ad-40f6-a542-0aaa89e682ff",
   "metadata": {},
   "outputs": [],
   "source": [
    "# url = f\"https://www.linkedin.com/jobs/search?keywords={position}&location={location}&position=1&pageNum=0\"\n",
    "url = f\"https://www.linkedin.com/jobs/search?keywords={position}&location={location}\""
   ]
  },
  {
   "cell_type": "code",
   "execution_count": 9,
   "id": "ba6f8b1d-7590-4538-8519-5bc0468f8b6a",
   "metadata": {},
   "outputs": [],
   "source": [
    "# list_url = f\"https://www.linkedin.com/jobs/search?keywords=Data%20Engineer&location=France&position=1&pageNum=0\"\n",
    "# https://www.linkedin.com/jobs-guest/jobs/api/seeMoreJobPostings/search?keywords=Data%20Engineer&location=France&currentJobId=4302070575&start=0&f_WT=2"
   ]
  },
  {
   "cell_type": "code",
   "execution_count": 10,
   "id": "d3a6e353-8353-40e4-92c3-778df5cd0b5e",
   "metadata": {},
   "outputs": [],
   "source": [
    "# https://www.linkedin.com/jobs/search?keywords=Data%20Engineer&location=France&position=1&pageNum=0\n",
    "# https://www.linkedin.com/jobs-guest/jobs/api/seeMoreJobPostings/search?keywords=Data%20Engineer&location=France&distance=20&f_TPR=r86400&start=0&f_WT=2\n",
    "# https://www.linkedin.com/jobs-guest/jobs/api/seeMoreJobPostings/search?keywords=Data%20Engineer&location=France&distance=20&f_TPR=r86400"
   ]
  },
  {
   "cell_type": "code",
   "execution_count": 11,
   "id": "faab3140-6be0-44fe-a9cb-e8ec6250e579",
   "metadata": {},
   "outputs": [],
   "source": [
    "# https://www.linkedin.com/jobs-guest/jobs/api/seeMoreJobPostings/search?keywords=Data%20Engineer&location=France&currentJobId=4302070575&start=0&f_WT=2\n",
    "# https://www.linkedin.com/jobs-guest/jobs/api/jobPosting/4302070575'"
   ]
  },
  {
   "cell_type": "code",
   "execution_count": 12,
   "id": "e05bf6b0-59ec-42e1-a704-8ad2ba54f93f",
   "metadata": {},
   "outputs": [],
   "source": [
    "response = requests.get(url, headers=header)"
   ]
  },
  {
   "cell_type": "code",
   "execution_count": 16,
   "id": "98677538-28fb-47c8-b816-6670db5bb64b",
   "metadata": {
    "scrolled": true
   },
   "outputs": [],
   "source": [
    "# Parse the HTML content of the response using BeautifulSoup\n",
    "soup = BeautifulSoup(response.text, \"html.parser\")"
   ]
  },
  {
   "cell_type": "code",
   "execution_count": 59,
   "id": "57fdd31a-0f01-4b2c-9735-795dffaed064",
   "metadata": {},
   "outputs": [],
   "source": [
    "# Find the unordered list (ul) element that contains the job search results using its class name\n",
    "soup_jobs = soup.find(\"ul\", class_=\"jobs-search__results-list\")\n",
    "\n",
    "# Find all list items (li) within the joblist, representing individual job postings\n",
    "soup_jobs_li = soup_jobs.find_all('li')"
   ]
  },
  {
   "cell_type": "code",
   "execution_count": 60,
   "id": "ca71809a-bfa1-49dd-a1ae-e18def012df4",
   "metadata": {
    "scrolled": true
   },
   "outputs": [
    {
     "data": {
      "text/plain": [
       "<li>\n",
       "<div class=\"base-card relative w-full hover:no-underline focus:no-underline base-card--link base-search-card base-search-card--link job-search-card\" data-column=\"1\" data-entity-urn=\"urn:li:jobPosting:4295805013\" data-impression-id=\"jobs-search-desktop-0\" data-reference-id=\"mrydzisbQA+Dt7ipFjmOug==\" data-row=\"1\" data-tracking-id=\"CBBMoySqGLvwFtyq4XYdnA==\">\n",
       "<a class=\"base-card__full-link absolute top-0 right-0 bottom-0 left-0 p-0 z-[2] outline-offset-[4px]\" data-tracking-client-ingraph=\"\" data-tracking-control-name=\"public_jobs_jserp-result_search-card\" data-tracking-will-navigate=\"\" href=\"https://fr.linkedin.com/jobs/view/junior-data-engineer-f-m-at-vinci-airports-4295805013?position=1&amp;pageNum=0&amp;refId=mrydzisbQA%2BDt7ipFjmOug%3D%3D&amp;trackingId=CBBMoySqGLvwFtyq4XYdnA%3D%3D\">\n",
       "<span class=\"sr-only\">\n",
       "              \n",
       "        \n",
       "        Junior Data Engineer (F/M)\n",
       "      \n",
       "      \n",
       "          </span>\n",
       "</a>\n",
       "<div class=\"search-entity-media\">\n",
       "<img alt=\"\" class=\"artdeco-entity-image artdeco-entity-image--square-4\" data-delayed-url=\"https://media.licdn.com/dms/image/v2/C4D0BAQEcsOBpKCZXWQ/company-logo_100_100/company-logo_100_100/0/1631331915063?e=2147483647&amp;v=beta&amp;t=S_vN_K0F6w0qo8rV-my0eXwqeFljWneq-POEYE0dyyI\" data-ghost-classes=\"artdeco-entity-image--ghost\" data-ghost-url=\"https://static.licdn.com/aero-v1/sc/h/6puxblwmhnodu6fjircz4dn4h\"/>\n",
       "</div>\n",
       "<div class=\"base-search-card__info\">\n",
       "<h3 class=\"base-search-card__title\">\n",
       "            \n",
       "        Junior Data Engineer (F/M)\n",
       "      \n",
       "          </h3>\n",
       "<h4 class=\"base-search-card__subtitle\">\n",
       "<a class=\"hidden-nested-link\" data-tracking-client-ingraph=\"\" data-tracking-control-name=\"public_jobs_jserp-result_job-search-card-subtitle\" data-tracking-will-navigate=\"\" href=\"https://fr.linkedin.com/company/vinci-airports?trk=public_jobs_jserp-result_job-search-card-subtitle\">\n",
       "            VINCI Airports\n",
       "          </a>\n",
       "</h4>\n",
       "<!-- -->\n",
       "<div class=\"base-search-card__metadata\">\n",
       "<span class=\"job-search-card__location\">\n",
       "            Nanterre, Île-de-France, France\n",
       "          </span>\n",
       "<div class=\"job-posting-benefits text-sm\">\n",
       "<icon class=\"job-posting-benefits__icon\" data-delayed-url=\"https://static.licdn.com/aero-v1/sc/h/3p1v0uhy7uq0cm5zdvzp4eo18\" data-svg-class-name=\"job-posting-benefits__icon-svg\"></icon>\n",
       "<span class=\"job-posting-benefits__text\">\n",
       "          Actively Hiring\n",
       "<!-- --> </span>\n",
       "</div>\n",
       "<time class=\"job-search-card__listdate\" datetime=\"2025-09-08\">\n",
       "            \n",
       "\n",
       "    \n",
       "    \n",
       "    \n",
       "    \n",
       "    \n",
       "    \n",
       "    \n",
       "    \n",
       "    \n",
       "    \n",
       "    \n",
       "    \n",
       "    \n",
       "    \n",
       "    \n",
       "    \n",
       "\n",
       "    \n",
       "    \n",
       "    \n",
       "    \n",
       "    \n",
       "    \n",
       "    \n",
       "    \n",
       "    \n",
       "    \n",
       "    \n",
       "    \n",
       "    \n",
       "    \n",
       "\n",
       "      2 weeks ago\n",
       "  \n",
       "          </time>\n",
       "<!-- -->\n",
       "</div>\n",
       "</div>\n",
       "<!-- -->\n",
       "</div>\n",
       "</li>"
      ]
     },
     "execution_count": 60,
     "metadata": {},
     "output_type": "execute_result"
    }
   ],
   "source": [
    "soup_jobs_li[0]"
   ]
  },
  {
   "cell_type": "code",
   "execution_count": 68,
   "id": "def80716-6c32-4291-be70-613629e1189b",
   "metadata": {
    "scrolled": true
   },
   "outputs": [],
   "source": [
    "jobs = []\n",
    "for job in soup_jobs_li:\n",
    "    \n",
    "    posting_id = job.find(\"div\", class_=\"base-card\").get(\"data-entity-urn\").split(\":\")[3] if job.find(\"div\", class_=\"base-card\") else None\n",
    "    title = job.find(\"h3\", class_=\"base-search-card__title\").text.strip() if job.find(\"h3\", class_=\"base-search-card__title\") else None\n",
    "    company = job.find(\"h4\", class_=\"base-search-card__subtitle\").text.strip() if job.find(\"h4\", class_=\"base-search-card__subtitle\") else None\n",
    "    location = job.find(\"span\", class_=\"job-search-card__location\").text.strip() if job.find(\"span\", class_=\"job-search-card__location\") else None\n",
    "    url = job.find(\"a\", class_=\"base-card__full-link\").get(\"href\") if job.find(\"a\", class_=\"base-card__full-link\") else None\n",
    "\n",
    "    job_details = {\n",
    "        \"id\" : posting_id,\n",
    "        \"title\" : title,\n",
    "        \"company\" : company,\n",
    "        \"location\" : location,\n",
    "        \"url\": url        \n",
    "    }\n",
    "\n",
    "    jobs.append(job_details)"
   ]
  },
  {
   "cell_type": "code",
   "execution_count": 69,
   "id": "3f47cb78-7ce3-4045-afe7-f7fda906a2fd",
   "metadata": {},
   "outputs": [
    {
     "data": {
      "text/plain": [
       "60"
      ]
     },
     "execution_count": 69,
     "metadata": {},
     "output_type": "execute_result"
    }
   ],
   "source": [
    "len(jobs)"
   ]
  },
  {
   "cell_type": "code",
   "execution_count": 70,
   "id": "3121f2db-acdf-468b-8b08-ded0d47f7f0a",
   "metadata": {
    "scrolled": true
   },
   "outputs": [
    {
     "data": {
      "text/plain": [
       "{'id': '4295805013',\n",
       " 'title': 'Junior Data Engineer (F/M)',\n",
       " 'company': 'VINCI Airports',\n",
       " 'location': 'Nanterre, Île-de-France, France',\n",
       " 'url': 'https://fr.linkedin.com/jobs/view/junior-data-engineer-f-m-at-vinci-airports-4295805013?position=1&pageNum=0&refId=mrydzisbQA%2BDt7ipFjmOug%3D%3D&trackingId=CBBMoySqGLvwFtyq4XYdnA%3D%3D'}"
      ]
     },
     "execution_count": 70,
     "metadata": {},
     "output_type": "execute_result"
    }
   ],
   "source": [
    "jobs[0]"
   ]
  },
  {
   "cell_type": "code",
   "execution_count": null,
   "id": "4c34d731-69b8-44b5-9d4d-d412daa642fa",
   "metadata": {},
   "outputs": [],
   "source": []
  },
  {
   "cell_type": "code",
   "execution_count": 80,
   "id": "fae3fc6b-b44a-4466-9ed9-6a13319d86c9",
   "metadata": {},
   "outputs": [],
   "source": [
    "# Dictionary to map time posted options to LinkedIn's URL parameter values\n",
    "time_posted_dict = {\n",
    "    'ALL': '',\n",
    "    'MONTH': 'r2592000',\n",
    "    'WEEK': 'r604800',\n",
    "    'DAY': 'r86400' # r86400 refers to the amount of seconds passed, in this case 24*60*60 = 86400\n",
    "}\n",
    "\n",
    "# Dictionary to map remote work options to LinkedIn's URL parameter values\n",
    "remote_dict = {\n",
    "    'ALL': '',\n",
    "    'ON-SITE': '1',\n",
    "    'REMOTE': '2',\n",
    "    'HYBRID': '3'\n",
    "}"
   ]
  },
  {
   "cell_type": "code",
   "execution_count": 82,
   "id": "e21d33da-8598-4355-bbeb-938c444777ff",
   "metadata": {},
   "outputs": [
    {
     "name": "stdout",
     "output_type": "stream",
     "text": [
      "https://www.linkedin.com/jobs/search?keywords=Data%20Scientist&location=Monterrey&distance=10&f_TPR=r604800&f_WT=2\n"
     ]
    }
   ],
   "source": [
    "def generate_linkedin_url(position: str, location: str, distance: int = 10, \n",
    "                          time_posted: str = \"ALL\", remote: str = \"ALL\") -> str:\n",
    "    \n",
    "    # Base URL for Linkedin job search1\n",
    "    base_url = \"https://www.linkedin.com/jobs/search\"\n",
    "\n",
    "    # The keywords and location are required parameters.\n",
    "    query_params = f\"?keywords={position.replace(' ', '%20')}&location={location.replace(' ', '%20')}&distance={distance}\"\n",
    "\n",
    "    # Adding time to query params\n",
    "    query_params += f\"&f_TPR={time_posted_dict.get(time_posted, '')}\"\n",
    "\n",
    "    # Adding remote to query params\n",
    "    query_params += f\"&f_WT={remote_dict.get(remote, '')}\"\n",
    "\n",
    "    return base_url + query_params\n",
    "\n",
    "    \n",
    "\n",
    "main_url = generate_linkedin_url(\n",
    "    position=\"Data Scientist\", \n",
    "    location=\"Monterrey\", \n",
    "    distance=10, \n",
    "    time_posted=\"WEEK\", \n",
    "    remote=\"REMOTE\"\n",
    ")\n",
    "\n",
    "print(main_url)\n",
    "    "
   ]
  },
  {
   "cell_type": "code",
   "execution_count": 57,
   "id": "3a65f177-a8ef-4e17-a561-2838e6ddaf28",
   "metadata": {},
   "outputs": [],
   "source": [
    "job_id = \"4291140251\"\n",
    "job_url = f\"https://www.linkedin.com/jobs-guest/jobs/api/jobPosting/{job_id}\"\n",
    "job_response = requests.get(job_url)"
   ]
  },
  {
   "cell_type": "code",
   "execution_count": 58,
   "id": "ec409404-a757-4a82-b38f-a60932466ee0",
   "metadata": {
    "scrolled": true
   },
   "outputs": [
    {
     "name": "stdout",
     "output_type": "stream",
     "text": [
      "\n",
      "<!-- -->\n",
      "<section class=\"top-card-layout container-lined overflow-hidden babybear:rounded-[0px]\">\n",
      "<div class=\"top-card-layout__card relative p-2 papabear:p-details-container-padding\">\n",
      "<a data-tracking-control-name=\"public_jobs_topcard_logo\" data-tracking-will-navigate=\"\" href=\"https://fr.linkedin.com/company/orange-business?trk=public_jobs_topcard_logo\" target=\"_self\">\n",
      "<img alt=\"Orange Business\" class=\"artdeco-entity-image artdeco-entity-image--square-5\" data-delayed-url=\"https://media.licdn.com/dms/image/v2/C4E0BAQHkuI2zyi1F8Q/company-logo_100_100/company-logo_100_100/0/1676538388568/orange_business_services_logo?e=2147483647&amp;v=beta&amp;t=a9t4M6vyaeecEQ2a2o5epemkc-6QWfV-YNROeDm-iZc\" data-ghost-classes=\"artdeco-entity-image--ghost\" data-ghost-url=\"https://static.licdn.com/aero-v1/sc/h/aajlclc14rr2scznz5qm2rj9u\"/>\n",
      "</a>\n",
      "<div class=\"top-card-layout__entity-info-container flex flex-wrap papabear:flex-nowrap\">\n",
      "<div class=\"top-card-layout__entity-info flex-grow flex-shrink-0 basis-0 babybear:flex-none babybear:w-full babybear:flex-none babybear:w-full\">\n",
      "<a class=\"topcard__link\" data-tracking-control-name=\"public_jobs_topcard-title\" data-tracking-will-navigate=\"\" href=\"https://fr.linkedin.com/jobs/view/data-engineer-%E2%80%93-sql-gcp-f-h-at-orange-business-4291140251?trk=public_jobs_topcard-title\">\n",
      "<h2 class=\"top-card-layout__title font-sans text-lg papabear:text-xl font-bold leading-open text-color-text mb-0 topcard__title\">Data Engineer – SQL &amp; GCP - F/H</h2>\n",
      "</a>\n",
      "<!-- -->\n",
      "<!-- -->\n",
      "<h4 class=\"top-card-layout__second-subline font-sans text-sm leading-open text-color-text-low-emphasis mt-0.5\">\n",
      "<div class=\"topcard__flavor-row\">\n",
      "<span class=\"topcard__flavor\">\n",
      "<a class=\"topcard__org-name-link topcard__flavor--black-link\" data-tracking-control-name=\"public_jobs_topcard-org-name\" data-tracking-will-navigate=\"\" href=\"https://fr.linkedin.com/company/orange-business?trk=public_jobs_topcard-org-name\" rel=\"noopener\" target=\"_blank\">\n",
      "                Orange Business\n",
      "              </a>\n",
      "</span>\n",
      "<span class=\"topcard__flavor topcard__flavor--bullet\">\n",
      "              Greater Lille Metropolitan Area\n",
      "            </span>\n",
      "</div>\n",
      "<div class=\"topcard__flavor-row\">\n",
      "<span class=\"posted-time-ago__text topcard__flavor--metadata\">\n",
      "          \n",
      "\n",
      "    \n",
      "    \n",
      "    \n",
      "    \n",
      "    \n",
      "    \n",
      "    \n",
      "    \n",
      "    \n",
      "    \n",
      "    \n",
      "    \n",
      "    \n",
      "    \n",
      "    \n",
      "    \n",
      "\n",
      "    \n",
      "    \n",
      "    \n",
      "    \n",
      "    \n",
      "    \n",
      "    \n",
      "    \n",
      "    \n",
      "    \n",
      "    \n",
      "    \n",
      "    \n",
      "    \n",
      "\n",
      "      2 weeks ago\n",
      "  \n",
      "        </span>\n",
      "<figure class=\"num-applicants__figure topcard__flavor--metadata topcard__flavor--bullet\">\n",
      "<span class=\"num-applicants__icon num-applicants__icon--notify-pebble lazy-load\"></span>\n",
      "<figcaption class=\"num-applicants__caption\">\n",
      "            Over 200 applicants\n",
      "          </figcaption>\n",
      "</figure>\n",
      "</div>\n",
      "<a class=\"face-pile flex !no-underline see-who-was-hired\" data-tracking-control-name=\"full-link\" data-tracking-will-navigate=\"\" href=\"https://www.linkedin.com/login?session_redirect=https%3A%2F%2Fwww%2Elinkedin%2Ecom%2Fsearch%2Fresults%2Fpeople%2F%3FfacetCurrentCompany%3D1112&amp;emailAddress=&amp;fromSignIn=&amp;trk=public_jobs_see-who-was-hired_people-search-link_face-pile-cta\" target=\"_self\">\n",
      "<div class=\"face-pile__images-container self-start flex-shrink-0 mr-1 leading-[1]\">\n",
      "<img alt=\"\" class=\"inline-block relative rounded-[50%] w-4 h-4 face-pile__image border-1 border-solid border-color-transparent -ml-2 first:ml-0\" data-delayed-url=\"https://static.licdn.com/aero-v1/sc/h/boxt1zgrwnv3ss0ch8fpldqox\" data-ghost-classes=\"bg-color-entity-ghost-background\" data-ghost-url=\"https://static.licdn.com/aero-v1/sc/h/9c8pery4andzj6ohjkjp54ma2\"/>\n",
      "<img alt=\"\" class=\"inline-block relative rounded-[50%] w-4 h-4 face-pile__image border-1 border-solid border-color-transparent -ml-2 first:ml-0\" data-delayed-url=\"https://static.licdn.com/aero-v1/sc/h/6fw6jn9040cngf2toi2pvzkn6\" data-ghost-classes=\"bg-color-entity-ghost-background\" data-ghost-url=\"https://static.licdn.com/aero-v1/sc/h/9c8pery4andzj6ohjkjp54ma2\"/>\n",
      "<img alt=\"\" class=\"inline-block relative rounded-[50%] w-4 h-4 face-pile__image border-1 border-solid border-color-transparent -ml-2 first:ml-0\" data-delayed-url=\"https://static.licdn.com/aero-v1/sc/h/5kmvlcys0cgehw7e3ojvz5yuk\" data-ghost-classes=\"bg-color-entity-ghost-background\" data-ghost-url=\"https://static.licdn.com/aero-v1/sc/h/9c8pery4andzj6ohjkjp54ma2\"/>\n",
      "</div>\n",
      "<p class=\"face-pile__text self-center font-sans text-sm link-styled hover:underline\">\n",
      "          See who Orange Business has hired for this role\n",
      "        </p>\n",
      "</a>\n",
      "<!-- -->\n",
      "</h4>\n",
      "<div class=\"top-card-layout__cta-container flex flex-wrap mt-0.5 papabear:mt-0 ml-[-12px]\">\n",
      "<button class=\"apply-button apply-button--default top-card-layout__cta mt-2 ml-1.5 h-auto babybear:flex-auto top-card-layout__cta--primary btn-md btn-primary\" data-reference-id=\"1z5RlyO5R1We9zugDOVrSw==\" data-tracking-control-name=\"public_jobs_apply-link-onsite\" data-tracking-id=\"vks3kKFaSYSKptDHlbxtTg==\">\n",
      "        Apply\n",
      "      </button>\n",
      "<a class=\"top-card-layout__cta mt-2 ml-1.5 h-auto babybear:flex-auto top-card-layout__cta--secondary btn-md btn-secondary\" data-impression-id=\"public_jobs_topcard-save-job\" data-test-redirect-save-to-login=\"\" data-tracking-control-name=\"public_jobs_topcard-save-job\" data-tracking-will-navigate=\"\" href=\"https://www.linkedin.com/login?emailAddress=&amp;fromSignIn=&amp;session_redirect=https%3A%2F%2Ffr.linkedin.com%2Fjobs%2Fview%2Fdata-engineer-%25E2%2580%2593-sql-gcp-f-h-at-orange-business-4291140251&amp;trk=public_jobs\">\n",
      "                Save\n",
      "            </a>\n",
      "</div>\n",
      "</div>\n",
      "<!-- --> </div>\n",
      "<div class=\"ellipsis-menu absolute right-0 top-0 top-card-layout__ellipsis-menu mr-1 papabear:mt-0.5 papabear:mr-2\">\n",
      "<div class=\"collapsible-dropdown flex items-center relative hyphens-auto\">\n",
      "<button aria-expanded=\"false\" aria-label=\"Open menu\" class=\"ellipsis-menu__trigger collapsible-dropdown__button btn-md btn-tertiary cursor-pointer !py-[6px] !px-1 flex items-center rounded-[50%]\" data-tracking-control-name=\"public_jobs_ellipsis-menu-trigger\" tabindex=\"0\">\n",
      "<icon class=\"ellipsis-menu__trigger-icon m-0 p-0 centered-icon\" data-delayed-url=\"https://static.licdn.com/aero-v1/sc/h/671xosfpvk4c0kqtyl87hashi\"></icon>\n",
      "</button>\n",
      "<ul class=\"collapsible-dropdown__list hidden container-raised absolute w-auto overflow-y-auto flex-col items-stretch z-[9999] bottom-auto top-[100%]\" role=\"menu\" tabindex=\"-1\">\n",
      "<li class=\"ellipsis-menu__item border-t-1 border-solid border-color-border-low-emphasis first-of-type:border-none flex\" role=\"presentation\">\n",
      "<a class=\"semaphore__toggle visited:text-color-text-secondary ellipsis-menu__semaphore ellipsis-menu__item-button flex items-center w-full p-1 cursor-pointer font-sans text-sm font-bold link-styled focus:link-styled link:no-underline active:bg-color-background-container-tint focus:bg-color-background-container-tint hover:bg-color-background-container-tint outline-offset-[-2px]\" data-is-logged-in=\"false\" data-item-type=\"semaphore\" data-modal=\"semaphore__toggle\" data-semaphore-content-type=\"JOB\" data-semaphore-content-urn=\"urn:li:jobPosting:4291140251\" data-semaphore-tracking-prefix=\"public_jobs_ellipsis-menu-semaphore\" data-tracking-control-name=\"public_jobs_ellipsis-menu-semaphore-sign-in-redirect\" data-tracking-will-navigate=\"\" href=\"/uas/login?fromSignIn=true&amp;session_redirect=https%3A%2F%2Ffr.linkedin.com%2Fjobs%2Fview%2Fdata-engineer-%25E2%2580%2593-sql-gcp-f-h-at-orange-business-4291140251&amp;trk=public_jobs_ellipsis-menu-semaphore-sign-in-redirect&amp;guestReportContentType=JOB&amp;_f=guest-reporting\" role=\"menuitem\">\n",
      "<!-- -->\n",
      "<icon class=\"ellipsis-menu__item-icon text-color-text h-[24px] w-[24px] mr-1\" data-delayed-url=\"https://static.licdn.com/aero-v1/sc/h/iq0x9q37wj214o129ai1yjut\">\n",
      "</icon>\n",
      "                      Report this job\n",
      "                    \n",
      "    </a>\n",
      "<!-- -->\n",
      "</li>\n",
      "<!-- -->\n",
      "</ul>\n",
      "<!-- --> </div>\n",
      "</div>\n",
      "<!-- --> </div>\n",
      "</section>\n",
      "<div class=\"decorated-job-posting__details\">\n",
      "<!-- -->\n",
      "<section class=\"core-section-container my-3 description\">\n",
      "<!-- -->\n",
      "<!-- -->\n",
      "<!-- -->\n",
      "<div class=\"core-section-container__content break-words\">\n",
      "<div class=\"message-the-recruiter\">\n",
      "<p>Direct message the job poster from Orange Business</p>\n",
      "<div class=\"base-card relative w-full hover:no-underline focus:no-underline base-card--link base-main-card flex flex-wrap py-1.5 pr-2 babybear:pr-0 base-main-card--link\">\n",
      "<a class=\"base-card__full-link absolute top-0 right-0 bottom-0 left-0 p-0 z-[2] outline-offset-[4px]\" data-tracking-control-name=\"public_jobs\" data-tracking-will-navigate=\"\" href=\"https://fr.linkedin.com/in/florian-duhin-2757a199\">\n",
      "<span class=\"sr-only\">\n",
      "              \n",
      "          \n",
      "        Florian DUHIN\n",
      "\n",
      "<!-- -->\n",
      "</span>\n",
      "</a>\n",
      "<img alt=\"Click here to view Florian DUHIN’s profile\" class=\"inline-block relative rounded-[50%] w-6 h-6\" data-delayed-url=\"https://media.licdn.com/dms/image/v2/C4D03AQF_nJ3tMkNB0A/profile-displayphoto-shrink_400_400/profile-displayphoto-shrink_400_400/0/1597655263945?e=2147483647&amp;v=beta&amp;t=PC5rqPACh_Nfykx6fDkmcYV3CDqad5z0aib7WUcvBmA\" data-ghost-classes=\"bg-color-entity-ghost-background\" data-ghost-url=\"https://static.licdn.com/aero-v1/sc/h/9c8pery4andzj6ohjkjp54ma2\"/>\n",
      "<div class=\"base-main-card__info self-center ml-1 flex-1 relative break-words papabear:min-w-0 mamabear:min-w-0 babybear:w-full\">\n",
      "<!-- --> <h3 class=\"base-main-card__title line-clamp-1 font-sans text-md font-bold text-color-text overflow-hidden base-main-card__title--link\">\n",
      "            \n",
      "        Florian DUHIN\n",
      "\n",
      "<!-- -->\n",
      "</h3>\n",
      "<h4 class=\"base-main-card__subtitle body-text text-color-text overflow-hidden\">\n",
      "              \n",
      "        Senior Talent Acquisition Specialist\n",
      "      \n",
      "            </h4>\n",
      "<!-- -->\n",
      "<!-- --><!-- --> </div>\n",
      "<div class=\"base-main-card__ctas z-[3] self-center ml-3 babybear:ml-1 babybear:self-start\">\n",
      "<a aria-label=\"Message Florian DUHIN\" class=\"message-the-recruiter__cta\" data-tracking-control-name=\"public_jobs_message-the-recruiter-cta\" data-tracking-will-navigate=\"\" href=\"https://www.linkedin.com/login?emailAddress=&amp;fromSignIn=&amp;session_redirect=https%3A%2F%2Ffr.linkedin.com%2Fin%2Fflorian-duhin-2757a199&amp;trk=public_jobs_message-the-recruiter-cta\">\n",
      "<icon class=\"message-the-recruiter__cta-icon\" data-delayed-url=\"https://static.licdn.com/aero-v1/sc/h/em62t8ujch4hqqc45owxy6auu\" data-tracking-will-navigate=\"\"></icon>\n",
      "</a>\n",
      "</div>\n",
      "</div>\n",
      "</div>\n",
      "<div class=\"description__text description__text--rich\">\n",
      "<section class=\"show-more-less-html\" data-max-lines=\"5\">\n",
      "<div class=\"show-more-less-html__markup show-more-less-html__markup--clamp-after-5 relative overflow-hidden\">\n",
      "<p><strong>L’ambition d’Orange Business est de devenir l’intégrateur réseau et numérique de référence en Europe</strong>, en nous appuyant sur nos forces autour des solutions de connectivité nouvelle génération, du cloud et de la cybersécurité.</p><p>Nos 30 000 femmes et hommes présents dans 65 pays, dont chaque voix compte, sont tous animés par la même détermination et le même esprit d’équipe, pour construire les solutions digitales d’aujourd’hui et de demain et créer un impact positif pour nos clients, pour leurs salariés et pour la planète.</p><p>Nous offrons des opportunités passionnantes grâce à des projets innovants dans <strong>la data et le digital, le cloud, l’IA, la cybersécurité, l’IoT, ou encore le digital workspace et le big data</strong>. Venez vivre cette aventure avec nous !</p><p><br/></p><p><strong>Venez vivre cette aventure avec nous ! Notre équipe lilloise s'agrandit !</strong></p><p><br/></p><p><strong><u>Ce poste est uniquement ouvert en CDI</u></strong></p><p><br/></p><p>Votre quotidien ? En intégrant Orange Business, vous pouvez participer à une grande diversité d’activités dans la Data. En voici un aperçu :</p><p><br/></p><ul><li>Recueillir et analyser les besoins du client</li><li>Rédiger les spécifications fonctionnelles et techniques</li><li>Estimer les charges</li><li>Modéliser des datawarehouses et datamart (intégration de flux et consolidation des données)</li><li>Développer les procédures d’alimentation (ETL)</li><li>Développer en SQL / PLSQL / Shell</li><li>Garantir la qualité des données et leur disponibilité</li><li>Concevoir et développer des solutions frontend BI à des fins analytics &amp; dashboarding</li><li>Réaliser la recette et les tests</li><li>Suivre et mettre en production</li></ul><p><br/></p><p>En fonction de votre évolution et de nos enjeux, vous pouvez aussi évoluer sur des missions transverses (conseil, coaching, avant-vente, formation, audit, etc.). La prise d’initiative est toujours la bienvenue !</p><p><br/></p><p><strong>Qualifications</strong></p><p><br/></p><p>Vous possédez 4 ans d'expérience ou plus dans la mise en œuvre de projets décisionnels. Vous avez de solides compétences en développement SQL (job, scripting, déploiement), vous avez l’habitude de travailler dans un environnement Google Cloud Plateform.</p><p><br/></p><p>Envie d’apprendre de nouvelles technos ? Vous souhaitez partager vos compétences et bénéficier des expertises de la Team Orange Business ? Outre l’aspect technique, c’est une personnalité qui est recherchée !</p><p><br/></p><p>-------------------------------------------------------------------------------------</p><p><strong>Informations supplémentaires</strong></p><p><br/></p><p><strong>Être un collaborateur au sein d’Orange Business c’est :</strong></p><p>Faire partie d’un acteur majeur dans les technologies de la Data, du Cloud &amp; du Digital</p><ul><li>Travailler sur des projets pour des clients de tous secteurs d'activités (banque, sport, santé, commerce de détail, service public…)</li><li>Utiliser des technologies de pointe telles que Microsoft, Docker, Qlik Sense, Java, Talend, Salesforce et bien d'autres…</li><li>Intégrer une communauté d’experts curieux et passionnés</li></ul><p><br/></p><p>Évoluer dans une entité où <strong>l’écoute, le partage et la confiance </strong>sont les piliers fondamentaux de notre culture :</p><ul><li>Bénéficier d'un accompagnement personnalisé et d'un suivi de proximité grâce à nos one to one hebdomadaire avec le manager</li><li>Saisir des opportunités d'évolution de carrière au sein d'un groupe mondial offrant de multiples perspectives</li><li>Cultiver une culture de l'innovation, encourageant la créativité et la contribution d'idées novatrices</li><li>Participer à des initiatives sociales et environnementales, faisant de nous une entreprise socialement responsable</li></ul><p><br/></p><p>Tous nos postes sont accessibles à compétences égales, promouvant une opportunité équitable pour chacun, indépendamment de la situation de handicap.</p><p><br/></p><p><strong>Informations complémentaires:</strong></p><p><br/></p><p><strong>Découvrez une partie de nos avantages :</strong></p><ul><li><strong>Un accord télétravail </strong>de 2 à 3 jours par semaine selon tes missions</li><li><strong>Un package avantages offrant : </strong>des réductions Orange, des titres restaurants, un accord de participation, une prime vacances et une prime à la cooptation</li><li><strong>Une école interne, Digital Services School: </strong>faire évoluer tes compétences techniques et fonctionnelles (formations, certifications…) grâce à un accompagnement de proximité et à notre université interne</li><li><strong>Un Forfait Mobilité Durable :</strong> contribue à notre engagement en faveur de la durabilité avec notre forfait dédié à la mobilité durable, soutenant activement des modes de déplacement respectueux de l'environnement</li></ul><p><br/></p><p>Votre salaire sera composé d’une partie fixe et d’une partie variable.</p>\n",
      "</div>\n",
      "<button aria-expanded=\"false\" aria-label=\"Show more\" class=\"show-more-less-html__button show-more-less-button show-more-less-html__button--more ml-0.5\" data-tracking-control-name=\"public_jobs_show-more-html-btn\">\n",
      "<!-- -->\n",
      "        \n",
      "            Show more\n",
      "          \n",
      "\n",
      "          <icon class=\"show-more-less-html__button-icon show-more-less-button-icon\" data-delayed-url=\"https://static.licdn.com/aero-v1/sc/h/cyolgscd0imw2ldqppkrb84vo\"></icon>\n",
      "</button>\n",
      "<button aria-expanded=\"true\" aria-label=\"Show less\" class=\"show-more-less-html__button show-more-less-button show-more-less-html__button--less ml-0.5\" data-tracking-control-name=\"public_jobs_show-less-html-btn\">\n",
      "<!-- -->\n",
      "        \n",
      "            Show less\n",
      "          \n",
      "\n",
      "          <icon class=\"show-more-less-html__button-icon show-more-less-button-icon\" data-delayed-url=\"https://static.licdn.com/aero-v1/sc/h/4chtt12k98xwnba1nimld2oyg\"></icon>\n",
      "</button>\n",
      "<!-- --> </section>\n",
      "</div>\n",
      "<ul class=\"description__job-criteria-list\">\n",
      "<li class=\"description__job-criteria-item\">\n",
      "<h3 class=\"description__job-criteria-subheader\">\n",
      "            Seniority level\n",
      "          </h3>\n",
      "<span class=\"description__job-criteria-text description__job-criteria-text--criteria\">\n",
      "            Associate\n",
      "          </span>\n",
      "</li>\n",
      "<li class=\"description__job-criteria-item\">\n",
      "<h3 class=\"description__job-criteria-subheader\">\n",
      "            Employment type\n",
      "          </h3>\n",
      "<span class=\"description__job-criteria-text description__job-criteria-text--criteria\">\n",
      "            Full-time\n",
      "          </span>\n",
      "</li>\n",
      "<li class=\"description__job-criteria-item\">\n",
      "<h3 class=\"description__job-criteria-subheader\">\n",
      "              Job function\n",
      "            </h3>\n",
      "<span class=\"description__job-criteria-text description__job-criteria-text--criteria\">\n",
      "              Engineering and Information Technology\n",
      "            </span>\n",
      "</li>\n",
      "<li class=\"description__job-criteria-item\">\n",
      "<h3 class=\"description__job-criteria-subheader\">\n",
      "              Industries\n",
      "            </h3>\n",
      "<span class=\"description__job-criteria-text description__job-criteria-text--criteria\">\n",
      "            IT Services and IT Consulting\n",
      "            </span>\n",
      "</li>\n",
      "</ul>\n",
      "</div>\n",
      "</section>\n",
      "<section class=\"core-section-container my-3 find-a-referral\">\n",
      "<!-- -->\n",
      "<!-- -->\n",
      "<!-- -->\n",
      "<div class=\"core-section-container__content break-words\">\n",
      "<div class=\"face-pile flex !no-underline\">\n",
      "<div class=\"face-pile__images-container self-start flex-shrink-0 mr-1 leading-[1]\">\n",
      "<img alt=\"\" class=\"inline-block relative rounded-[50%] w-4 h-4 face-pile__image border-1 border-solid border-color-transparent -ml-2 first:ml-0\" data-delayed-url=\"https://static.licdn.com/aero-v1/sc/h/boxt1zgrwnv3ss0ch8fpldqox\" data-ghost-classes=\"bg-color-entity-ghost-background\" data-ghost-url=\"https://static.licdn.com/aero-v1/sc/h/9c8pery4andzj6ohjkjp54ma2\"/>\n",
      "<img alt=\"\" class=\"inline-block relative rounded-[50%] w-4 h-4 face-pile__image border-1 border-solid border-color-transparent -ml-2 first:ml-0\" data-delayed-url=\"https://static.licdn.com/aero-v1/sc/h/6fw6jn9040cngf2toi2pvzkn6\" data-ghost-classes=\"bg-color-entity-ghost-background\" data-ghost-url=\"https://static.licdn.com/aero-v1/sc/h/9c8pery4andzj6ohjkjp54ma2\"/>\n",
      "<img alt=\"\" class=\"inline-block relative rounded-[50%] w-4 h-4 face-pile__image border-1 border-solid border-color-transparent -ml-2 first:ml-0\" data-delayed-url=\"https://static.licdn.com/aero-v1/sc/h/5kmvlcys0cgehw7e3ojvz5yuk\" data-ghost-classes=\"bg-color-entity-ghost-background\" data-ghost-url=\"https://static.licdn.com/aero-v1/sc/h/9c8pery4andzj6ohjkjp54ma2\"/>\n",
      "</div>\n",
      "<div class=\"find-a-referral__cta-container\">\n",
      "<p>Referrals increase your chances of interviewing at Orange Business by 2x</p>\n",
      "<a class=\"find-a-referral__cta\" data-impression-id=\"public_jobs_find-a-referral-cta\" data-tracking-control-name=\"public_jobs_find-a-referral-cta\" data-tracking-will-navigate=\"\" href=\"https://www.linkedin.com/login?session_redirect=https%3A%2F%2Fwww%2Elinkedin%2Ecom%2Fsearch%2Fresults%2Fpeople%2F%3FfacetCurrentCompany%3D1112&amp;emailAddress=&amp;fromSignIn=&amp;trk=public_jobs_find-a-referral-cta\">\n",
      "                See who you know\n",
      "              </a>\n",
      "</div>\n",
      "</div>\n",
      "</div>\n",
      "</section>\n",
      "<!-- --> </div>\n",
      "<!-- -->\n",
      "<!-- -->\n",
      "<code id=\"decoratedJobPostingId\" style=\"display: none\"><!--\"4291140251\"--></code>\n",
      "<code id=\"referenceId\" style=\"display: none\"><!--\"1z5RlyO5R1We9zugDOVrSw==\"--></code>\n",
      "<code id=\"joinUrlWithRedirect\" style=\"display: none\"><!--\"https://www.linkedin.com/signup/cold-join?source=jobs_registration&session_redirect=https%3A%2F%2Ffr.linkedin.com%2Fjobs%2Fview%2Fdata-engineer-%25E2%2580%2593-sql-gcp-f-h-at-orange-business-4291140251&trk=public_jobs_save-job\"--></code>\n",
      "\n"
     ]
    }
   ],
   "source": [
    "print(BeautifulSoup(job_response.text, \"html.parser\"))"
   ]
  },
  {
   "cell_type": "code",
   "execution_count": 84,
   "id": "e5363671-b1bc-4502-a5fe-6318304237ce",
   "metadata": {},
   "outputs": [
    {
     "name": "stdout",
     "output_type": "stream",
     "text": [
      "https://www.linkedin.com/jobs/search?keywords=Data+Engineer&location=France&distance=10\n"
     ]
    }
   ],
   "source": [
    "from urllib.parse import urlencode, quote_plus\n",
    "\n",
    "base_url = \"https://www.linkedin.com/jobs/search\"\n",
    "\n",
    "params = {\n",
    "        \"keywords\": \"Data Engineer\",\n",
    "        \"location\": \"France\",\n",
    "        \"distance\": 10\n",
    "    }\n",
    "\n",
    "print(f\"{base_url}?{urlencode(params, quote_via=quote_plus)}\")"
   ]
  },
  {
   "cell_type": "code",
   "execution_count": null,
   "id": "f3f706e8-5105-4280-bf31-4b97c50c47a9",
   "metadata": {},
   "outputs": [],
   "source": []
  }
 ],
 "metadata": {
  "kernelspec": {
   "display_name": "Python 3 (ipykernel)",
   "language": "python",
   "name": "python3"
  },
  "language_info": {
   "codemirror_mode": {
    "name": "ipython",
    "version": 3
   },
   "file_extension": ".py",
   "mimetype": "text/x-python",
   "name": "python",
   "nbconvert_exporter": "python",
   "pygments_lexer": "ipython3",
   "version": "3.12.3"
  }
 },
 "nbformat": 4,
 "nbformat_minor": 5
}
